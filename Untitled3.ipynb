{
  "nbformat": 4,
  "nbformat_minor": 0,
  "metadata": {
    "colab": {
      "provenance": [],
      "toc_visible": true,
      "authorship_tag": "ABX9TyP6VvUJK8+xZw+UIccfgr7V",
      "include_colab_link": true
    },
    "kernelspec": {
      "name": "python3",
      "display_name": "Python 3"
    },
    "language_info": {
      "name": "python"
    }
  },
  "cells": [
    {
      "cell_type": "markdown",
      "metadata": {
        "id": "view-in-github",
        "colab_type": "text"
      },
      "source": [
        "<a href=\"https://colab.research.google.com/github/PADMAPRIYA31D/String-/blob/main/Untitled3.ipynb\" target=\"_parent\"><img src=\"https://colab.research.google.com/assets/colab-badge.svg\" alt=\"Open In Colab\"/></a>"
      ]
    },
    {
      "cell_type": "code",
      "execution_count": null,
      "metadata": {
        "colab": {
          "base_uri": "https://localhost:8080/"
        },
        "id": "l9UF2m6lmAY-",
        "outputId": "3a2bac46-198c-4e52-dfc6-7e1a74d860a5"
      },
      "outputs": [
        {
          "output_type": "stream",
          "name": "stdout",
          "text": [
            "2.4\n",
            "7.2\n",
            "VGLUG\n",
            "ring\n"
          ]
        }
      ],
      "source": [
        "a=[3,5,6,7,2.5,7.2,2.4,5.0]\n",
        "b=[\"apple\",\"ring\",\"formula\",\"VGLUG\"]\n",
        "print(min(a))\n",
        "print(max(a))\n",
        "print(min(b))\n",
        "print(max(b))"
      ]
    },
    {
      "cell_type": "code",
      "source": [
        "ab=[\"oxygen\",\"optical\",\"canada\",\"canada\"]\n",
        "print(max(ab))\n",
        "print(min(ab))"
      ],
      "metadata": {
        "colab": {
          "base_uri": "https://localhost:8080/"
        },
        "id": "oNuVzPiNo5Ik",
        "outputId": "97ff286c-d470-4f75-8ba0-269cb0dee17a"
      },
      "execution_count": null,
      "outputs": [
        {
          "output_type": "stream",
          "name": "stdout",
          "text": [
            "oxygen\n",
            "canada\n"
          ]
        }
      ]
    },
    {
      "cell_type": "code",
      "source": [
        "ab.insert(0,\"dubai\")\n",
        "print(ab)"
      ],
      "metadata": {
        "colab": {
          "base_uri": "https://localhost:8080/"
        },
        "id": "sBXfHxHhq-Bu",
        "outputId": "b7173dc1-adff-4713-e2da-0b1110940c72"
      },
      "execution_count": null,
      "outputs": [
        {
          "output_type": "stream",
          "name": "stdout",
          "text": [
            "['dubai', 'dubai', 'dubai', 'oxygen', 'optical', 'canada', 'dubai', 'code', 'code', 'code', 'code', 'code', 'apple', 'ring', 'formula', 'VGLUG', 'code', 'apple', 'ring', 'formula', 'VGLUG']\n"
          ]
        }
      ]
    },
    {
      "cell_type": "code",
      "source": [
        "ab.append(\"code\")\n",
        "print(ab)\n",
        "ab.pop(5)\n",
        "print(ab)\n",
        "ab.remove(\"dubai\")\n",
        "print(ab)\n",
        "ab.extend(b)\n",
        "print(ab)"
      ],
      "metadata": {
        "id": "3kXKDsbHtvI9",
        "outputId": "413d71f3-15b4-4cd4-e98f-7184400aa113",
        "colab": {
          "base_uri": "https://localhost:8080/"
        }
      },
      "execution_count": null,
      "outputs": [
        {
          "output_type": "stream",
          "name": "stdout",
          "text": [
            "['dubai', 'dubai', 'dubai', 'oxygen', 'optical', 'canada', 'dubai', 'code', 'code', 'code', 'code', 'code', 'apple', 'ring', 'formula', 'VGLUG', 'code', 'apple', 'ring', 'formula', 'VGLUG', 'code']\n",
            "['dubai', 'dubai', 'dubai', 'oxygen', 'optical', 'dubai', 'code', 'code', 'code', 'code', 'code', 'apple', 'ring', 'formula', 'VGLUG', 'code', 'apple', 'ring', 'formula', 'VGLUG', 'code']\n",
            "['dubai', 'dubai', 'oxygen', 'optical', 'dubai', 'code', 'code', 'code', 'code', 'code', 'apple', 'ring', 'formula', 'VGLUG', 'code', 'apple', 'ring', 'formula', 'VGLUG', 'code']\n",
            "['dubai', 'dubai', 'oxygen', 'optical', 'dubai', 'code', 'code', 'code', 'code', 'code', 'apple', 'ring', 'formula', 'VGLUG', 'code', 'apple', 'ring', 'formula', 'VGLUG', 'code', 'apple', 'ring', 'formula', 'VGLUG']\n"
          ]
        }
      ]
    },
    {
      "cell_type": "code",
      "source": [
        "a1=[2,3,5,6,7]\n",
        "print(len(a1))\n",
        "a1.count(6)\n",
        "\n"
      ],
      "metadata": {
        "colab": {
          "base_uri": "https://localhost:8080/"
        },
        "id": "PMaO92zIyYro",
        "outputId": "b46739ad-7bb2-4427-a8a3-f4534cac9d31"
      },
      "execution_count": 27,
      "outputs": [
        {
          "output_type": "stream",
          "name": "stdout",
          "text": [
            "5\n"
          ]
        },
        {
          "output_type": "execute_result",
          "data": {
            "text/plain": [
              "1"
            ]
          },
          "metadata": {},
          "execution_count": 27
        }
      ]
    },
    {
      "cell_type": "markdown",
      "source": [],
      "metadata": {
        "id": "CdHvMx5Hz5fl"
      }
    }
  ]
}